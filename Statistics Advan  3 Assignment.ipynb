{
 "cells": [
  {
   "cell_type": "code",
   "execution_count": 1,
   "id": "d7d3cefc-6abf-46fc-a32e-46cc42cc1ffd",
   "metadata": {},
   "outputs": [],
   "source": [
    "#Q1: What is Estimation Statistics? Explain point estimate and interval estimate."
   ]
  },
  {
   "cell_type": "code",
   "execution_count": 2,
   "id": "e159160d-d8ac-4270-aeb8-f5c0122d8673",
   "metadata": {},
   "outputs": [],
   "source": [
    "# Ans Objorb Numeric value used to estimate an unknow population parameter.\n",
    "\n",
    "#A point estimate is a single value estimate of a parameter. For instance, a sample mean is a point\n",
    "# estimate of a population mean. An interval estimate gives you a range of values where the parameter is \n",
    "#expected to lie."
   ]
  },
  {
   "cell_type": "code",
   "execution_count": 3,
   "id": "27f233e0-6576-45b2-9e51-88eb3a7bc76a",
   "metadata": {},
   "outputs": [],
   "source": [
    "#Q2. Write a Python function to estimate the population mean using a sample mean and standard\n",
    "#    deviation."
   ]
  },
  {
   "cell_type": "code",
   "execution_count": 1,
   "id": "91897464-716e-40fa-b466-ce109616de36",
   "metadata": {},
   "outputs": [],
   "source": [
    "# If we have sample mean x bar sample std deviation S then \n",
    "# To Estimate Population Mean\n",
    "\n",
    "# We  Know that x bar= (Population mean , std deviation / under root of sample size) so by this help of \n",
    " # we can find out Pupolation Mean"
   ]
  },
  {
   "cell_type": "code",
   "execution_count": 2,
   "id": "2e3cbd00-177c-4cb9-bdb5-4dd281793b03",
   "metadata": {},
   "outputs": [],
   "source": [
    "#Q3. What is Hypothesis testing? Why is it used? State the importance of Hypothesis testing."
   ]
  },
  {
   "cell_type": "code",
   "execution_count": 4,
   "id": "949fe645-7830-487b-93b4-4117d5a0faa4",
   "metadata": {},
   "outputs": [],
   "source": [
    "#Hypothesis testing is a systematic procedure for deciding whether the results of a research study \n",
    "# support a particular theory which applies to a population.\n",
    "#Hypothesis testing uses sample data to evaluate a hypothesis about a population.\n",
    "\n",
    "#Hypothesis testing allows the researcher to determine whether the data from the sample is statistically \n",
    "#significant. Hypothesis testing is one of the most important processes for measuring the validity and \n",
    "#reliability of outcomes in any systematic investigation."
   ]
  },
  {
   "cell_type": "code",
   "execution_count": 5,
   "id": "b518273f-1a46-47fb-9cef-319b0f14b9ca",
   "metadata": {},
   "outputs": [],
   "source": [
    "#Q4.. Create a hypothesis that states whether the average weight of male college students is greater than\n",
    "#the average weight of female college students."
   ]
  },
  {
   "cell_type": "code",
   "execution_count": 6,
   "id": "220ccc2c-2490-4070-b15f-2797f9ff6b8e",
   "metadata": {},
   "outputs": [],
   "source": [
    "# Ans A statistical test is left-tailed if the alternative hypothesis states that the parameter is \n",
    "#greater than the value claimed in the null hypothesis."
   ]
  },
  {
   "cell_type": "code",
   "execution_count": 7,
   "id": "8fb2254e-1c33-466b-a9ce-f2533631b10d",
   "metadata": {},
   "outputs": [],
   "source": [
    "#Q5. Write a Python script to conduct a hypothesis test on the difference between two population means,\n",
    "#given a sample from each population."
   ]
  },
  {
   "cell_type": "code",
   "execution_count": 8,
   "id": "6294777c-4a1d-459d-84a2-b2bc0fd6c7b5",
   "metadata": {},
   "outputs": [],
   "source": [
    "#Ans The two-sample t-test is used to determine if two population means are equal.\n",
    "#A common application is to test if a new process or treatment is superior to a current process or \n",
    "#treatment. There are several variations on this test. The data may either be paired or not paired."
   ]
  },
  {
   "cell_type": "code",
   "execution_count": 9,
   "id": "8fd23620-079b-4602-9a0e-e41a45bda838",
   "metadata": {},
   "outputs": [],
   "source": [
    "#Q6. What is a null and alternative hypothesis? Give some examples."
   ]
  },
  {
   "cell_type": "code",
   "execution_count": 10,
   "id": "cc95cf41-a0a7-4806-ba34-51bd7d871185",
   "metadata": {},
   "outputs": [],
   "source": [
    "# Ans Null Hypothesis: On the average, the dosage sold under this brand is 50 mg\n",
    "#(population mean dosage = 50 mg). Alternative Hypothesis: On the average, the dosage sold under this\n",
    "#brand is not 50 mg (population mean dosage ≠ 50 mg). This is a two-sided alternative hypothesis."
   ]
  },
  {
   "cell_type": "code",
   "execution_count": 11,
   "id": "f41c1f2b-e48b-4305-a849-611702632e1b",
   "metadata": {},
   "outputs": [],
   "source": [
    "#Q7. : Write down the steps involved in hypothesis testing."
   ]
  },
  {
   "cell_type": "code",
   "execution_count": 12,
   "id": "4d573a54-2316-41dd-a329-81fd0249eb9d",
   "metadata": {},
   "outputs": [],
   "source": [
    "#Step 1: State your null and alternate hypothesis. ...\n",
    "#Step 2: Collect data. ...\n",
    "#Step 3: Perform a statistical test. ...\n",
    "#Step 4: Decide whether to reject or fail to reject your null hypothesis. ...\n",
    "#Step 5: Present your findings."
   ]
  },
  {
   "cell_type": "code",
   "execution_count": 13,
   "id": "811adc13-1cb8-48ea-a573-1377944652b9",
   "metadata": {},
   "outputs": [],
   "source": [
    "#Q8. Define p-value and explain its significance in hypothesis testing."
   ]
  },
  {
   "cell_type": "code",
   "execution_count": 14,
   "id": "7c98739e-de59-4884-8b29-8f52d662b6c9",
   "metadata": {},
   "outputs": [],
   "source": [
    "#Ans The p value is a number, calculated from a statistical test, that describes how likely you are to \n",
    "#have found a particular set of observations if the null hypothesis were true. P values are used in \n",
    "#hypothesis testing to help decide whether to reject the null hypothesis."
   ]
  },
  {
   "cell_type": "code",
   "execution_count": 16,
   "id": "679b7a08-f093-43a3-be5c-179d1849b856",
   "metadata": {},
   "outputs": [],
   "source": [
    "#Q9.. Generate a Student's t-distribution plot using Python's matplotlib library, with the degrees of \n",
    "#freedom parameter set to 10."
   ]
  },
  {
   "cell_type": "code",
   "execution_count": 17,
   "id": "1cd14ec7-3f2e-40ef-b586-e69637f1ed60",
   "metadata": {},
   "outputs": [],
   "source": [
    "# Ans d.f.\n",
    "# t=(sample mean-population mean) / sample std deviation * under root sample size\n",
    "# given here df=10 =n-1 so n=11"
   ]
  },
  {
   "cell_type": "code",
   "execution_count": 21,
   "id": "da09ac22-2714-4ebe-a2f1-6550bfc9a9df",
   "metadata": {},
   "outputs": [],
   "source": [
    "import matplotlib.pyplot  as plt"
   ]
  },
  {
   "cell_type": "code",
   "execution_count": 25,
   "id": "bd2b501a-e94e-4e08-8e77-3fe768ed5cbc",
   "metadata": {},
   "outputs": [
    {
     "data": {
      "text/plain": [
       "[<matplotlib.lines.Line2D at 0x7fbff46c6050>]"
      ]
     },
     "execution_count": 25,
     "metadata": {},
     "output_type": "execute_result"
    },
    {
     "data": {
      "image/png": "[encoded data removed]",
      "text/plain": [
       "<Figure size 640x480 with 1 Axes>"
      ]
     },
     "metadata": {},
     "output_type": "display_data"
    }
   ],
   "source": [
    "plt.plot(11)"
   ]
  },
  {
   "cell_type": "code",
   "execution_count": 26,
   "id": "068aec43-35e4-4e0a-b3f0-8a9a47633d15",
   "metadata": {},
   "outputs": [],
   "source": [
    "#Q10.  Write a Python program to calculate the two-sample t-test for independent samples, given two\n",
    "#random samples of equal size and a null hypothesis that the population means are equal."
   ]
  },
  {
   "cell_type": "code",
   "execution_count": 27,
   "id": "3a8e8c01-5766-4c28-bf32-7c598f68df8d",
   "metadata": {},
   "outputs": [],
   "source": [
    "# Ans The test statistic for a two-sample independent t-test is calculated by taking the difference \n",
    "#in the two sample means and dividing by either the pooled or unpooled estimated standard error. \n",
    "#The estimated standard error is an aggregate measure of the amount of variation in both groups.\n",
    "\n",
    "#Syntax: ttest(data_group1, data_group2, correction = True/False)\n",
    "\n",
    "#Here,\n",
    "\n",
    "#data_group1: First data group\n",
    "#data_group2: Second data group\n",
    "#correction = “True”: The standard independent two sample t-test will be conducted by taking into \n",
    "#consideration the homogeneity assumption.\n",
    "#correction = “False”: The Welch’s t-test will be conducted by not taking into consideration the \n",
    "#homogeneity assumption."
   ]
  },
  {
   "cell_type": "code",
   "execution_count": 28,
   "id": "99741e39-7897-456f-9823-7abe48198950",
   "metadata": {},
   "outputs": [],
   "source": [
    "#Q11. What is Student’s t distribution? When to use the t-Distribution."
   ]
  },
  {
   "cell_type": "code",
   "execution_count": 29,
   "id": "b4639e8c-bfda-4367-a1a4-8810f0bfbb85",
   "metadata": {},
   "outputs": [],
   "source": [
    "# Ans The t-distribution, also known as the Student's t-distribution, is a type of probability distribution \n",
    "#that is similar to the normal distribution with its bell shape but has heavier tails. It is used for \n",
    "#estimating population parameters for small sample sizes or unknown variances."
   ]
  },
  {
   "cell_type": "code",
   "execution_count": 30,
   "id": "0cac9c07-2d76-4bda-9a32-4620d039a73a",
   "metadata": {},
   "outputs": [],
   "source": [
    "#12.What is t-statistic? State the formula for t-statistic."
   ]
  },
  {
   "cell_type": "code",
   "execution_count": 31,
   "id": "a43d6422-297a-449f-a7ed-693e6c6c7f0b",
   "metadata": {},
   "outputs": [],
   "source": [
    "# Ans You can calculate a t-value using a common t-test with the formula:\n",
    "#t = (X‾ - μ0) / (s / √n), where X‾ is the sample mean, μ0 represents the population mean, s is the \n",
    "#standard deviation of the sample and n stands for the size of the sample."
   ]
  },
  {
   "cell_type": "code",
   "execution_count": 33,
   "id": "d3b130ce-f280-49bb-897f-24ef58bda0dc",
   "metadata": {},
   "outputs": [],
   "source": [
    "#Q13.  Random Sample of 50 days Sample size n=50 , sample mean x bar =500 ,Std devi s=50 , at CI=90% , find the \n",
    "# Population mean "
   ]
  },
  {
   "cell_type": "code",
   "execution_count": 1,
   "id": "d5cb6d50-cf49-4aee-befd-b51246a6db3c",
   "metadata": {},
   "outputs": [],
   "source": [
    "# Solution Here Given CI=0.95 then , Significient =0.05 , \n",
    "# Dgrre of freedom =n-1=50-1=49 and significient =0.05 then we can see t-table outcome is t=1.674\n",
    "# we can see the formula t= (sample mean-population mean)/s/under root sample size\n",
    "# 1.674= (500-population mean)/50/under root of 50\n",
    "# Final Results is Population mean =488.163 "
   ]
  },
  {
   "cell_type": "code",
   "execution_count": 2,
   "id": "054a1dc3-3d79-4cac-88a2-62c4c17370fc",
   "metadata": {},
   "outputs": [],
   "source": [
    "#Q14.. A researcher hypothesizes that a new drug will decrease blood pressure by 10 mmHg. They conduct a\n",
    "#clinical trial with 100 patients and find that the sample mean decrease in blood pressure is 8 mmHg with a\n",
    "#standard deviation of 3 mmHg. Test the hypothesis with a significance level of 0.05."
   ]
  },
  {
   "cell_type": "code",
   "execution_count": 1,
   "id": "c8e28d1d-8837-4f74-a1c3-1dc86e9fe69f",
   "metadata": {},
   "outputs": [],
   "source": [
    "# Here Given Data Population Mean is 10 , n=100 , Sample mean 8, sample Std Deviation =3, Significient level is =0.05 , then CI=100-0.05=0.95 then test the Hypothesis ?\n",
    "#lets null hypo h0=10 \n",
    "#alternate hypo h1 not =10\n",
    "# CI=0.95 , df=99 & significient =0.05 then with the T-Table t value is 1.66 & -1.66 \n",
    "## We Know the t=(sample mean -population mean)/sample std deviation * under root of sample size \n",
    "# statics t=-6.66 which is less then to table t=-1.66 so \n",
    "# rejection of null hypoth H0"
   ]
  },
  {
   "cell_type": "code",
   "execution_count": 2,
   "id": "953edf83-9bb3-4513-b795-4e978522e28d",
   "metadata": {},
   "outputs": [],
   "source": [
    "#Q15. An electronics company produces a certain type of product with a mean weight of 5 pounds and a\n",
    "#standard deviation of 0.5 pounds. A random sample of 25 products is taken, and the sample mean weight\n",
    "#is found to be 4.8 pounds. Test the hypothesis that the true mean weight of the products is less than 5\n",
    "#pounds with a significance level of 0.01."
   ]
  },
  {
   "cell_type": "code",
   "execution_count": 4,
   "id": "01d58bef-c869-45ac-a1aa-57f26942cf5f",
   "metadata": {},
   "outputs": [],
   "source": [
    "# Solution Given here Population mean =5, population std deviation is =0.5, Sample mean =4.8, Sample size=25\n",
    "# lets h0=5 , h1>5 Then we go through the z-test becoz here given population deviation \n",
    "#Area under the curve is 1-0.01=0.99=99% so we go for Z-Table and then Z-values is 2.33 \n",
    "# We go for States calculation z=(sample mean-popolation mean)/Popolation std deviation*Under root of sample size\n",
    "#z= (4.8-5)/0.5* under root of 25=  z=-2 which is less of 2.33 so rejection of Null Hypo H0 "
   ]
  },
  {
   "cell_type": "code",
   "execution_count": 5,
   "id": "d08a2be6-d938-4985-a123-1d62ae700b1f",
   "metadata": {},
   "outputs": [],
   "source": [
    "#Q17.  A marketing company wants to estimate the average number of ads watched by viewers during a TV\n",
    "#program. They take a random sample of 50 viewers and find that the sample mean is 4 with a standard\n",
    "#deviation of 1.5. Estimate the population mean with a 99% confidence interval"
   ]
  },
  {
   "cell_type": "code",
   "execution_count": null,
   "id": "842fad9a-2c99-437d-af23-4cc2ec33850a",
   "metadata": {},
   "outputs": [],
   "source": [
    "# Solution given data is sample size =50 ,sample mean =4 , s=1.5 , CI =.99, Population ?\n",
    "# We will go through the t-test , so degree of freedom =n-1=50-1=49,& significient=1-.99=0.01 then t-table \n",
    "#t=2.626 \n",
    "# we know the formula t=(sample mean-popolation mean)/s/under root sample size \n",
    "# 2.626= (4-Popolation mean)*under root 50/1.5\n",
    "# Final Result of Popolation Mean is "
   ]
  }
 ],
 "metadata": {
  "kernelspec": {
   "display_name": "Python 3 (ipykernel)",
   "language": "python",
   "name": "python3"
  },
  "language_info": {
   "codemirror_mode": {
    "name": "ipython",
    "version": 3
   },
   "file_extension": ".py",
   "mimetype": "text/x-python",
   "name": "python",
   "nbconvert_exporter": "python",
   "pygments_lexer": "ipython3",
   "version": "3.10.8"
  }
 },
 "nbformat": 4,
 "nbformat_minor": 5
}
